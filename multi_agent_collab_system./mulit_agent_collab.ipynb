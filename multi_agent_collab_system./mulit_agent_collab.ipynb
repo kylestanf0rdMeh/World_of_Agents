{
 "cells": [
  {
   "cell_type": "code",
   "execution_count": 1,
   "metadata": {},
   "outputs": [],
   "source": [
    "import os\n",
    "import time\n",
    "\n",
    "from langchain_openai import ChatOpenAI\n",
    "from langchain.schema import HumanMessage, SystemMessage, AIMessage\n",
    "from typing import List, Dict\n",
    "from dotenv import load_dotenv\n",
    "\n",
    "load_dotenv()\n",
    "os.environ[\"OPENAI_API_KEY\"] = os.getenv('OPENAI_API_KEY')"
   ]
  },
  {
   "cell_type": "code",
   "execution_count": 3,
   "metadata": {},
   "outputs": [],
   "source": [
    "llm = ChatOpenAI(model=\"gpt-4o-mini\", max_tokens=1000, temperature=0.7)"
   ]
  },
  {
   "cell_type": "code",
   "execution_count": 4,
   "metadata": {},
   "outputs": [],
   "source": [
    "# DEFINE BASE AGENTS CLASS\n",
    "class Agent:\n",
    "    def __init__(self, name: str, role: str, skills: List[str]):\n",
    "        self.name = name\n",
    "        self.role = role\n",
    "        self.skills = skills\n",
    "        self.llm = llm\n",
    "\n",
    "    def process(self, task: str, context: List[Dict] = None) -> str:\n",
    "        messages = [\n",
    "            SystemMessage(content=f\"You are {self.name}, a {self.role}. Your skills includes: {', '.join(self.skills)}. Respond to the task absed on your role and skills.\")\n",
    "        ]\n",
    "\n",
    "        if context:\n",
    "            for msg in context:\n",
    "                if msg['role'] == 'human':\n",
    "                    messages.append(HumanMessage(content=msg['content']))\n",
    "                elif msg['role'] == 'ai':\n",
    "                    messages.append(AIMessage(content=msg['content']))\n",
    "\n",
    "        messages.append(HumanMessage(content=task))\n",
    "        response = self.llm.invoke(messages)\n",
    "        return response.content"
   ]
  },
  {
   "cell_type": "code",
   "execution_count": 5,
   "metadata": {},
   "outputs": [],
   "source": [
    "# define specialized agents: HistoryResearchAgent and DataAnalysisAgent\n",
    "class HistoryResearchAgent(Agent):\n",
    "    def __init__(self):\n",
    "        super().__init__(\"Clio\", \"History Research Specialist\", [\"deep knowledge of historical events\", \"understanding of historical contexts\", \"indetifying historical trends\"])\n",
    "\n",
    "class DataAnalysisAgent(Agent):\n",
    "    def __init__(self):\n",
    "        super().__init__('Data', \"Data Analysis Expert\", [\"interpreting numerical data\", \"statstical analysis\", \"data visualization description\"])"
   ]
  },
  {
   "cell_type": "code",
   "execution_count": 6,
   "metadata": {},
   "outputs": [],
   "source": [
    "# Define the different functions for the collab system\n",
    "\n",
    "# Research historical context\n",
    "def research_historical_context(history_agent, task: str, context: list) -> list:\n",
    "    print(\"Hsitory Agent: Researching historical context..\")\n",
    "    history_task = f\"Provide relevant historical context and information for the following task: {task}\"\n",
    "    history_result = history_agent.process(history_task)\n",
    "    context.append({\"role\": \"ai\", \"content\": f\"History Agent: {history_result}\"})\n",
    "    print(f\"Historical context provided: {history_result[:100]}...\\n\")\n",
    "    return context"
   ]
  },
  {
   "cell_type": "code",
   "execution_count": 7,
   "metadata": {},
   "outputs": [],
   "source": [
    "# Identify data needs\n",
    "\n",
    "def identify_data_needs(data_agent, task: str, context: list) -> list:\n",
    "    print(\"Data Agent: Identifying data needs based on historical context...\")\n",
    "    historical_context = context[-1][\"content\"]\n",
    "    data_need_task = f\"Based on the historical context, what specific data or statistical information would be helpful to answer the original question? Historical context: {historical_context}\"\n",
    "    data_need_result = data_agent.process(data_need_task, context)\n",
    "    context.append({\"role\": \"ai\", \"content\": f\"Data Agent: {data_need_result}\"})\n",
    "    print(f\"Data needs identified: {data_need_result[:100]}...\\n\")\n",
    "    return context"
   ]
  },
  {
   "cell_type": "code",
   "execution_count": 8,
   "metadata": {},
   "outputs": [],
   "source": [
    "# Provide historical Data\n",
    "\n",
    "def provide_historical_data(history_agent, task: str, context: list) -> list:\n",
    "    print(\"History agentL prividing relevant historical data...\")\n",
    "    data_needs = context[-1][\"content\"]\n",
    "    data_provision_task = f\"based on the data needs identified, provide the relevant historical data or statistics. Data needs: {data_needs}\"\n",
    "    data_provision_result = history_agent.process(data_provision_task, context)\n",
    "    context.append({\"role\": \"ai\", \"content\": f\"History Agent: {data_provision_result}\"})\n",
    "    print(f\"Historical data provided: {data_provision_result[:100]}...\\n\")\n",
    "    return context"
   ]
  },
  {
   "cell_type": "code",
   "execution_count": 9,
   "metadata": {},
   "outputs": [],
   "source": [
    "# Analyze Data\n",
    "\n",
    "def analyze_data(data_agent, task: str, context: list) -> list:\n",
    "    print(\"Data Agent: Analyzing historical data...\")\n",
    "    historical_data = context[-1][\"content\"]\n",
    "    analysis_task = f\"analyze the historical data provided and describe any trends or insights relevant to the original task. Historical data: {historical_data}\"\n",
    "    analysis_result = data_agent.process(analysis_task, context)\n",
    "    context.append({\"role\":\"ai\",\"content\":f\"Data Agent: {analysis_result}\"})\n",
    "    print(f\"Data analysis results: {analysis_result[:100]}...\\n\")\n",
    "    return context"
   ]
  },
  {
   "cell_type": "code",
   "execution_count": 10,
   "metadata": {},
   "outputs": [],
   "source": [
    "# Synthesize final answer\n",
    "def synthesize_final_answer(history_agent, task: str, context: list) -> str:\n",
    "    print(\"History Agent: Synthesizing final answer...\")\n",
    "    synthesize_task = \"Based on all historical context, data, and analysis, provide a comprehensive answer to the original task\"\n",
    "    final_result = history_agent.process(synthesize_task, context)\n",
    "    return final_result"
   ]
  },
  {
   "cell_type": "code",
   "execution_count": null,
   "metadata": {},
   "outputs": [],
   "source": [
    "class HistoryDataCollaborationSystem:\n",
    "    def __init__(self):\n",
    "        self.history_agent = Agent(\"Clio\", \"History Research Specialist\", [\"deep knowledge of historical events\", \"understanding of historical contexts\", \"identifying historical trends\"])\n",
    "        self.data_agent = Agent(\"Data\", \"Data Analysis Expert\", [\"interpreting numerical data\", \"statistical analysis\", \"data visualization description\"])\n",
    "\n",
    "    def solve(self, task: str, timeout: int = 300) -> str:\n",
    "        print(f\"\\nStarting collaboration to solve: {task}\\n\")\n",
    "        \n",
    "        start_time = time.time()\n",
    "        context = []\n",
    "        \n",
    "        steps = [\n",
    "            (research_historical_context, self.history_agent),\n",
    "            (identify_data_needs, self.data_agent),\n",
    "            (provide_historical_data, self.history_agent),\n",
    "            (analyze_data, self.data_agent),\n",
    "            (synthesize_final_answer, self.history_agent)\n",
    "        ]\n",
    "        \n",
    "        for step_func, agent in steps:\n",
    "            if time.time() - start_time > timeout:\n",
    "                return \"Operation timed out. The process took too long to complete.\"\n",
    "            try:\n",
    "                result = step_func(agent, task, context)\n",
    "                if isinstance(result, str):\n",
    "                    return result  # This is the final answer\n",
    "                context = result\n",
    "            except Exception as e:\n",
    "                return f\"Error during collaboration: {str(e)}\"\n",
    "        \n",
    "        print(\"\\nCollaboration complete. Final answer synthesized.\\n\")\n",
    "        return context[-1][\"content\"]"
   ]
  },
  {
   "cell_type": "code",
   "execution_count": 15,
   "metadata": {},
   "outputs": [
    {
     "name": "stdout",
     "output_type": "stream",
     "text": [
      "\n",
      "👥 Starting collaboration to solve: How did urbanization rates in Europe compare to those in North America during the Industrial Revolution, and what were the main factors influencing these trends?\n",
      "\n",
      "Hsitory Agent: Researching historical context..\n",
      "Historical context provided: The Industrial Revolution, which began in the late 18th century and continued into the 19th century,...\n",
      "\n",
      "Data Agent: Identifying data needs based on historical context...\n",
      "Data needs identified: To effectively analyze and compare the urbanization patterns during the Industrial Revolution in Eur...\n",
      "\n",
      "History agentL prividing relevant historical data...\n",
      "Historical data provided: Certainly! Below is a collection of historical data and statistics relevant to the urbanization patt...\n",
      "\n",
      "Data Agent: ANalyzing historical data...\n",
      "Data analysis results: Data Agent: Analyzing the historical data on urbanization during the Industrial Revolution reveals s...\n",
      "\n",
      "History Agent: Synthesizing final answer...\n",
      "Certainly! Here’s a comprehensive overview of urbanization during the Industrial Revolution in Europe and North America, integrating historical context, data, and analysis:\n",
      "\n",
      "### Urbanization during the Industrial Revolution: A Comparative Analysis of Europe and North America\n",
      "\n",
      "The Industrial Revolution, which began in the late 18th century and continued into the 19th century, was a pivotal era that reshaped economies, societies, and urban landscapes in both Europe and North America. This period was characterized by significant technological advancements, shifts in labor, and rapid urbanization, leading to profound demographic changes.\n",
      "\n",
      "#### 1. The Pace of Urbanization\n",
      "\n",
      "- **Europe**: The pace of urbanization was notably rapid in European countries, particularly in Britain, which was the birthplace of the Industrial Revolution. By 1800, only about 20% of the British population lived in urban areas. However, this figure soared to approximately 50% by 1850 and reached about 80% by 1900. Other European nations, such as France and Germany, also experienced significant urban growth, though at varying rates. For example, France's urban population grew from 27% in 1800 to around 50% by 1900.\n",
      "\n",
      "- **North America**: In contrast, urbanization in North America commenced later and progressed at a different pace. By 1800, only about 5% of the U.S. population lived in urban areas. This increased to approximately 15% by 1850 and 20% by 1860. The urbanization rate accelerated significantly post-Civil War, driven by industrialization and immigration, particularly in cities like New York and Chicago.\n",
      "\n",
      "#### 2. Factors Influencing Urbanization\n",
      "\n",
      "- **Economic Opportunities**: The rise of factories and industrial jobs attracted rural populations to urban centers seeking employment. In Britain, the shift from agriculture to industry saw the percentage of the labor force in agriculture decline from 60% in 1800 to 40% by 1851, while by 1900, about 60% were employed in industry and services. In the U.S., the influx of immigrants provided a labor force that supported urban growth, particularly in manufacturing.\n",
      "\n",
      "- **Transportation Infrastructure**: The development of transportation networks, such as railroads, greatly facilitated urbanization in both regions. By 1850, Britain had over 6,000 miles of railway, and in the U.S., approximately 9,000 miles by 1860. This infrastructure allowed for the efficient movement of goods and people, connecting rural areas to urban centers and promoting economic growth.\n",
      "\n",
      "- **Immigration**: Immigration played a crucial role in urbanization, especially in the United States. Between 1820 and 1860, immigration surged from 143,000 to over 4.2 million, with significant numbers coming from Ireland and Germany. These immigrants contributed to the labor force in urban industries, furthering the growth of cities.\n",
      "\n",
      "#### 3. Urban Growth Patterns\n",
      "\n",
      "- **City-Specific Growth**: Urban centers experienced explosive growth during this period. In Britain, cities like Manchester expanded from around 70,000 in 1801 to 700,000 by 1901. Similarly, New York City's population surged from about 60,000 in 1800 to 3.4 million by 1900. This rapid urbanization often led to overcrowded living conditions, with significant portions of populations living in tenements and facing public health challenges.\n",
      "\n",
      "#### 4. Health and Living Conditions\n",
      "\n",
      "- **Challenges of Urban Living**: The rapid influx of people into cities resulted in significant public health challenges. Urban mortality rates in some cities reached as high as 20% due to overcrowding, unsanitary conditions, and diseases. In contrast, rural areas typically had lower mortality rates. The poor living conditions sparked social reform movements aimed at improving housing, sanitation, and labor conditions.\n",
      "\n",
      "- **Legislative Responses**: In response to the challenges posed by urbanization, various legislative measures were implemented. In Britain, Factory Acts were introduced to regulate working conditions in factories. Similar movements emerged in the U.S. to address labor rights and public health concerns, reflecting the growing awareness of the need for urban reform.\n",
      "\n",
      "#### 5. Social and Economic Implications\n",
      "\n",
      "- **Emergence of a Middle Class**: Urbanization contributed to the rise of a middle class, as increased access to education and job opportunities allowed for social mobility. This shift altered social dynamics, leading to new cultural and political movements and demands for greater representation and rights.\n",
      "\n",
      "- **Economic Transformation**: The economic landscape transformed dramatically, with industrial output increasing significantly. Britain’s coal production surged from 10 million tons in 1800 to over 200 million tons by 1900, indicating the scale of industrial activity and its reliance on urban labor forces.\n",
      "\n",
      "### Conclusion\n",
      "\n",
      "In summary, the urbanization experienced during the Industrial Revolution in both Europe and North America marked a fundamental\n"
     ]
    }
   ],
   "source": [
    "# USAGE\n",
    "\n",
    "collaboration_system = HistoryDataCollaborationSystem()\n",
    "\n",
    "# Define a complex historical question that requires both historical knowledge and data anlysis\n",
    "question = \"How did urbanization rates in Europe compare to those in North America during the Industrial Revolution, and what were the main factors influencing these trends?\"\n",
    "\n",
    "# Solve the question using the collab system\n",
    "result = collaboration_system.solve(question)\n",
    "\n",
    "# Print the result\n",
    "\n",
    "with open(\"collab_result.txt\", \"w\") as f:\n",
    "    f.write(result)\n",
    "\n",
    "print(result)"
   ]
  },
  {
   "cell_type": "code",
   "execution_count": null,
   "metadata": {},
   "outputs": [],
   "source": []
  }
 ],
 "metadata": {
  "kernelspec": {
   "display_name": "Agent World",
   "language": "python",
   "name": "agent_world"
  },
  "language_info": {
   "codemirror_mode": {
    "name": "ipython",
    "version": 3
   },
   "file_extension": ".py",
   "mimetype": "text/x-python",
   "name": "python",
   "nbconvert_exporter": "python",
   "pygments_lexer": "ipython3",
   "version": "3.12.7"
  }
 },
 "nbformat": 4,
 "nbformat_minor": 2
}
