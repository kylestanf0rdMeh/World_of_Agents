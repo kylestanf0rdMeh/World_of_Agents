{
 "cells": [
  {
   "cell_type": "markdown",
   "metadata": {},
   "source": [
    "# Motivation\n",
    "By utilizing a multi-agent system, we can enhance collaborative research and content creation by distributing tasks among specialized agents. This approach demonstrates how agents with distinct roles can work together to produce a comprehensive blog post.\n",
    "\n",
    "## Why use a multi-agent system?\n",
    "Multi-agent systems offer several advantages in complex tasks like content creation:\n",
    "\n",
    "- **Specialization**: Each agent can focus on its specific role, leading to higher quality output.\n",
    "- **Parallelization**: Multiple agents can work simultaneously on different aspects of the task.\n",
    "- **Scalability**: The system can be easily expanded by adding new agents with specialized roles.\n",
    "- **Robustness**: If one agent fails, others can compensate, ensuring task completion.\n",
    "\n",
    "## Key Components\n",
    "- **OpenAI's Swarm Package**: Facilitates the creation and management of multi-agent interactions.\n",
    "- **Agents**: Include a human admin, AI researcher, content planner, writer, and editor, each with specific responsibilities.\n",
    "- **Interaction Management**: Manages the conversation flow and context among agents."
   ]
  },
  {
   "cell_type": "code",
   "execution_count": 1,
   "metadata": {},
   "outputs": [
    {
     "data": {
      "text/plain": [
       "True"
      ]
     },
     "execution_count": 1,
     "metadata": {},
     "output_type": "execute_result"
    }
   ],
   "source": [
    "from dotenv import load_dotenv\n",
    "\n",
    "load_dotenv()"
   ]
  },
  {
   "cell_type": "code",
   "execution_count": 2,
   "metadata": {},
   "outputs": [],
   "source": [
    "# install swarm package from pip install git+https://github.com/openai/swarm.git\n",
    "\n",
    "# This is a function for the Agent to use, will see usage later\n",
    "\n",
    "def complete_blog_post(title, content):\n",
    "    # Create a valid filename from the title\n",
    "    filename = title.lower().replace(\" \", \"-\") + \".md\"\n",
    "\n",
    "    with open(filename, \"w\", encoding=\"utf-8\") as file:\n",
    "        file.write(content)\n",
    "\n",
    "    print(f\"Blog post '{title} has been written to {filename}\")\n",
    "    return \"Task Completed\""
   ]
  },
  {
   "cell_type": "code",
   "execution_count": 5,
   "metadata": {},
   "outputs": [],
   "source": [
    "from swarm import Agent\n",
    "\n",
    "def admin_instructions(context_variables):\n",
    "    topic = context_variables.get(\"topic\", \"No topic provided\")\n",
    "    return f\"\"\"You are the Admin Agent overseeing the blog post project on the topic: '{topic}'.\n",
    "Your responsibilities include initiating the project, providing guidance, and reviewing the final content.\n",
    "Once you've set the topic, call the function to transfer to the planner agent.\"\"\"\n",
    "\n",
    "\n",
    "def planner_instructions(context_variables):\n",
    "    topic = context_variables.get(\"topic\", \"No topic provided\")\n",
    "    return f\"\"\"You are the Planner Agent. Based on the following topic: '{topic}'\n",
    "Organize the content into topics and sections with clear headings that will each be individually researched as points in the greater blog post.\n",
    "Once the outline is ready, call the researcher agent. \"\"\"\n",
    "\n",
    "\n",
    "def researcher_instructions(context_variables):\n",
    "    return \"\"\"You are the Researcher Agent. your task is to provide dense context and information on the topics outlined by the previous planner agent.\n",
    "This research will serve as the information that will be formatted into a body of a blog post. Provide comprehensive research like notes for each of the sections outlined by the planner agent.\n",
    "Once your research is complete, transfer to the writer agent\"\"\"\n",
    "\n",
    "\n",
    "def writer_instructions(context_variables):\n",
    "    return \"\"\"You are the Writer Agent. using the prior information write a clear blog post following the outline from the planner agent. \n",
    "    Summarise and include as much information relevant from the research into the blog post.\n",
    "    The blog post should be quite large as the context the context provided should be quite dense.\n",
    "Write clear, engaging content for each section.\n",
    "Once the draft is complete, call the function to transfer to the Editor Agent.\"\"\"\n",
    "\n",
    "\n",
    "def editor_instructions(context_variables):\n",
    "    return \"\"\"You are the Editor Agent. Review and edit th prior blog post completed by the writer agent.\n",
    "Make necessary corrections and improvements.\n",
    "Once editing is complete, call the function to complete the blog post\"\"\"\n",
    "\n",
    "def transfer_to_researcher():\n",
    "    return researcher_agent\n",
    "\n",
    "\n",
    "def transfer_to_planner():\n",
    "    return planner_agent\n",
    "\n",
    "\n",
    "def transfer_to_writer():\n",
    "    return writer_agent\n",
    "\n",
    "\n",
    "def transfer_to_editor():\n",
    "    return editor_agent\n",
    "\n",
    "\n",
    "def transfer_to_admin():\n",
    "    return admin_agent\n",
    "\n",
    "\n",
    "def complete_blog():\n",
    "    return \"Task completed\"\n",
    "\n",
    "\n",
    "admin_agent = Agent(\n",
    "    name=\"Admin Agent\",\n",
    "    instructions=admin_instructions,\n",
    "    functions=[transfer_to_planner],\n",
    ")\n",
    "\n",
    "planner_agent = Agent(\n",
    "    name=\"Planner Agent\",\n",
    "    instructions=planner_instructions,\n",
    "    functions=[transfer_to_researcher],\n",
    ")\n",
    "\n",
    "researcher_agent = Agent(\n",
    "    name=\"Researcher Agent\",\n",
    "    instructions=researcher_instructions,\n",
    "    functions=[transfer_to_writer],\n",
    ")\n",
    "\n",
    "writer_agent = Agent(\n",
    "    name=\"Writer Agent\",\n",
    "    instructions=writer_instructions,\n",
    "    functions=[transfer_to_editor],\n",
    ")\n",
    "\n",
    "editor_agent = Agent(\n",
    "    name=\"Editor Agent\",\n",
    "    instructions=editor_instructions,\n",
    "    functions=[complete_blog_post],\n",
    ")"
   ]
  },
  {
   "cell_type": "code",
   "execution_count": null,
   "metadata": {},
   "outputs": [
    {
     "name": "stdout",
     "output_type": "stream",
     "text": [
      "Blod post 'The Impact of Blockchain on Supply Chain Management has been written to the-impact-of-blockchain-on-supply-chain-management.md\n",
      "Blog post about 'The Impact of Blockchain on Supply Chain Management' has been completed.\n",
      "Blog post has been written to blog.md\n"
     ]
    }
   ],
   "source": [
    "from swarm import Swarm\n",
    "from swarm.repl import run_demo_loop\n",
    "\n",
    "# Create the Swarm client\n",
    "client = Swarm()\n",
    "\n",
    "# Define a function to run with your custom topic\n",
    "def run_with_topic(topic):\n",
    "    # Initialize context variables with your topic\n",
    "    context_variables = {\"topic\": topic}\n",
    "    \n",
    "    # Run the swarm with your admin agent as the starting point\n",
    "    response = client.run(\n",
    "        agent=admin_agent,\n",
    "        messages=[{\"role\": \"user\", \"content\": f\"Create a blog post about {topic}\"}],\n",
    "        context_variables=context_variables\n",
    "    )\n",
    "    \n",
    "    print(f\"Blog post about '{topic}' has been completed.\")\n",
    "    return response\n",
    "\n",
    "# Example usage:\n",
    "my_topic = \"The Impact of Blockchain on Supply Chain Management\"\n",
    "run_with_topic(my_topic)\n",
    "\n",
    "print(\"Blog post has been written to a file\")"
   ]
  }
 ],
 "metadata": {
  "kernelspec": {
   "display_name": "Agent World",
   "language": "python",
   "name": "agent_world"
  },
  "language_info": {
   "codemirror_mode": {
    "name": "ipython",
    "version": 3
   },
   "file_extension": ".py",
   "mimetype": "text/x-python",
   "name": "python",
   "nbconvert_exporter": "python",
   "pygments_lexer": "ipython3",
   "version": "3.12.7"
  }
 },
 "nbformat": 4,
 "nbformat_minor": 2
}
